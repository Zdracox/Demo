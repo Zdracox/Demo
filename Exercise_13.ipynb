{
  "nbformat": 4,
  "nbformat_minor": 0,
  "metadata": {
    "colab": {
      "provenance": [],
      "authorship_tag": "ABX9TyNLDra6JyHvx2UHlCdlzQCg",
      "include_colab_link": true
    },
    "kernelspec": {
      "name": "python3",
      "display_name": "Python 3"
    },
    "language_info": {
      "name": "python"
    }
  },
  "cells": [
    {
      "cell_type": "markdown",
      "metadata": {
        "id": "view-in-github",
        "colab_type": "text"
      },
      "source": [
        "<a href=\"https://colab.research.google.com/github/Zdracox/Demo/blob/main/Exercise_13.ipynb\" target=\"_parent\"><img src=\"https://colab.research.google.com/assets/colab-badge.svg\" alt=\"Open In Colab\"/></a>"
      ]
    },
    {
      "cell_type": "code",
      "source": [
        "import nltk\n",
        "from sklearn.feature_extraction.text import CountVectorizer\n",
        "from sklearn.naive_bayes import MultinomialNB"
      ],
      "metadata": {
        "id": "tkBaCmqTXmNp"
      },
      "execution_count": 1,
      "outputs": []
    },
    {
      "cell_type": "code",
      "execution_count": 4,
      "metadata": {
        "colab": {
          "base_uri": "https://localhost:8080/"
        },
        "id": "YXth2OXZVmY5",
        "outputId": "980e6dd6-93f8-481e-f894-f24b363d5448"
      },
      "outputs": [
        {
          "output_type": "stream",
          "name": "stdout",
          "text": [
            "['spam']\n"
          ]
        }
      ],
      "source": [
        "#Python notebook exercise: Spam Classification\n",
        "#1. Take atleast 10 sentences to train the model.\n",
        "\n",
        "# Training data\n",
        "documents = [\n",
        "    (\"Make money fast!\", \"spam\"),\n",
        "    (\"Win a free iPhone!\", \"spam\"),\n",
        "    (\"Your account has been compromised.\", \"spam\"),\n",
        "    (\"Free pizza coupon inside!\", \"spam\"),\n",
        "    (\"Your payment is due.\", \"not spam\"),\n",
        "    (\"Click here to claim your prize.\", \"spam\"),\n",
        "    (\"Limited time offer!\", \"spam\"),\n",
        "    (\"Your account has been hacked.\", \"spam\"),\n",
        "    (\"Free trial offer!\", \"spam\"),\n",
        "    (\"Congratulations, you've won!\", \"spam\"),\n",
        "    (\"Hello, how are you?\", \"not spam\")\n",
        "]\n",
        "\n",
        "# Prepare features and labels\n",
        "vectorizer = CountVectorizer()\n",
        "features = vectorizer.fit_transform([doc[0] for doc in documents])\n",
        "labels = [doc[1] for doc in documents]\n",
        "\n",
        "# Train a classifier (Naive Bayes)\n",
        "classifier = MultinomialNB()\n",
        "classifier.fit(features, labels)\n",
        "\n",
        "#2. Predict the output/Class of a new text data\n",
        "# Test with a new example\n",
        "new_example = vectorizer.transform([\"You've won a prize!\"])\n",
        "prediction = classifier.predict(new_example)\n",
        "print(prediction)"
      ]
    }
  ]
}